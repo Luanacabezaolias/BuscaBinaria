{
 "cells": [
  {
   "cell_type": "code",
   "execution_count": null,
   "metadata": {},
   "outputs": [],
   "source": [
    "def busca_binaria(lista, item):\n",
    "    baixo = 0 \n",
    "    alto = len (lista-1)\n",
    "\n",
    "    while baixo <= alto:\n",
    "        meio =  (baixo + alto) // 2\n",
    "        chute = lista[meio]\n",
    "\n",
    "        if chute == item:\n",
    "            return meio \n",
    "        if chute > meio:\n",
    "            alto = meio - 1\n",
    "        else:\n",
    "            baixo = meio + 1\n",
    "\n",
    "    return None\n",
    "\n",
    "minha_lista = [1, 3, 5, 7, 9]\n",
    "\n",
    "\n",
    "\n"
   ]
  }
 ],
 "metadata": {
  "language_info": {
   "name": "python"
  },
  "orig_nbformat": 4
 },
 "nbformat": 4,
 "nbformat_minor": 2
}
